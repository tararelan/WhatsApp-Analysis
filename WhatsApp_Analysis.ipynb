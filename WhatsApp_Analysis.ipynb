{
 "cells": [
  {
   "cell_type": "code",
   "execution_count": null,
   "metadata": {},
   "outputs": [],
   "source": [
    "%pip install -r requirements.txt"
   ]
  },
  {
   "cell_type": "code",
   "execution_count": null,
   "metadata": {},
   "outputs": [],
   "source": [
    "import re\n",
    "import pandas as pd\n",
    "import numpy as np\n",
    "import emoji\n",
    "import plotly.express as px\n",
    "from collections import Counter\n",
    "from nltk.tokenize import word_tokenize\n",
    "from nltk.probability import FreqDist\n",
    "from nltk.corpus import stopwords\n",
    "import datetime\n",
    "import matplotlib.pyplot as plt\n",
    "import seaborn as sns\n",
    "from os import path\n",
    "from PIL import Image\n",
    "from wordcloud import WordCloud, STOPWORDS, ImageColorGenerator"
   ]
  },
  {
   "cell_type": "code",
   "execution_count": null,
   "metadata": {},
   "outputs": [],
   "source": [
    "def date_time(s):\n",
    "    pattern = '^([0-9]+)(\\/)([0-9]+)(\\/)([0-9]+), ([0-9]+):([0-9]+)[ ]?(AM|PM|am|pm)? -'\n",
    "    result = re.match(pattern, s)\n",
    "    if result:\n",
    "        return True\n",
    "    return False\n",
    "\n",
    "def find_author(s):\n",
    "    s = s.split(\":\")\n",
    "    if len(s)==2:\n",
    "        return True\n",
    "    else:\n",
    "        return False\n",
    "\n",
    "def getDatapoint(line):\n",
    "    splitline = line.split(' - ')\n",
    "    dateTime = splitline[0]\n",
    "    date, time = dateTime.split(\", \")\n",
    "    message = \" \".join(splitline[1:])\n",
    "    if find_author(message):\n",
    "        splitmessage = message.split(\": \")\n",
    "        author = splitmessage[0]\n",
    "        message = \" \".join(splitmessage[1:])\n",
    "    else:\n",
    "        author= None\n",
    "    return date, time, author, message"
   ]
  },
  {
   "cell_type": "code",
   "execution_count": null,
   "metadata": {},
   "outputs": [],
   "source": [
    "data = []\n",
    "conversation = '.txt'\n",
    "with open(conversation, encoding=\"utf-8\") as fp:\n",
    "    fp.readline()\n",
    "    messageBuffer = []\n",
    "    date, time, author = None, None, None\n",
    "    while True:\n",
    "        line = fp.readline()\n",
    "        if not line:\n",
    "            break\n",
    "        line = line.strip()\n",
    "        if date_time(line):\n",
    "            if len(messageBuffer) > 0:\n",
    "                data.append([date, time, author, ' '.join(messageBuffer)])\n",
    "            messageBuffer.clear()\n",
    "            date, time, author, message = getDatapoint(line)\n",
    "            messageBuffer.append(message)\n",
    "        else:\n",
    "            messageBuffer.append(line)\n",
    "\n",
    "chat = pd.DataFrame(data, columns=['Date', 'Time', 'Author', 'Message'])"
   ]
  },
  {
   "cell_type": "code",
   "execution_count": null,
   "metadata": {},
   "outputs": [],
   "source": [
    "chat[\"Date\"] = pd.to_datetime(chat[\"Date\"], dayfirst=True)\n",
    "chat[\"Time\"] = pd.to_datetime(chat[\"Time\"], dayfirst=True)\n",
    "\n",
    "chat['weekday'] = chat['Date'].apply(lambda x: x.day_name())\n",
    "chat['month_sent'] = chat['Date'].apply(lambda x: x.month_name()) \n",
    "chat['date'] = [d.date() for d in chat['Date']] \n",
    "chat['hour'] = [d.time().hour for d in chat['Time']]"
   ]
  },
  {
   "cell_type": "code",
   "execution_count": null,
   "metadata": {},
   "outputs": [],
   "source": [
    "URLPATTERN = r'(https?://\\S+)'\n",
    "chat['urlcount'] = chat.Message.apply(lambda x: re.findall(URLPATTERN, x)).str.len()\n",
    "chat['Letter_Count'] = chat['Message'].apply(lambda s : len(s))\n",
    "chat['Word_Count'] = chat['Message'].apply(lambda s : len(s.split(' ')))"
   ]
  },
  {
   "cell_type": "code",
   "execution_count": null,
   "metadata": {},
   "outputs": [],
   "source": [
    "def split_count(text):\n",
    "    emoji_list = []\n",
    "    data = re.findall(r'\\\\x', text)\n",
    "    for word in data:\n",
    "        try:\n",
    "            if any(char in emoji.UNICODE_EMOJI and char != \"\\U0001f3fc\" for char in word):\n",
    "                for char in word:\n",
    "                    if char in emoji.UNICODE_EMOJI:\n",
    "                        emoji_list.append(hex(ord(char)))\n",
    "        except:\n",
    "            pass\n",
    "    return emoji_list\n",
    "\n",
    "chat[\"emoji\"] = chat[\"Message\"].apply(split_count)"
   ]
  },
  {
   "cell_type": "code",
   "execution_count": null,
   "metadata": {},
   "outputs": [],
   "source": [
    "chat.head()"
   ]
  },
  {
   "cell_type": "code",
   "execution_count": null,
   "metadata": {},
   "outputs": [],
   "source": [
    "date_grouped = chat.groupby('date')['Message'].count().plot(kind='line', figsize=(20,10))"
   ]
  },
  {
   "cell_type": "code",
   "execution_count": null,
   "metadata": {},
   "outputs": [],
   "source": [
    "weekday_grouped_msg = (chat.groupby('weekday')['Message']\n",
    "                      .count()\n",
    "                      .reset_index(name='count'))\n",
    "\n",
    "fig = px.line_polar(weekday_grouped_msg, r='count', theta='weekday', line_close=True)\n",
    "fig.update_traces(fill='toself')\n",
    "fig.update_layout(polar=dict(radialaxis=dict(visible=False)), showlegend=False)\n",
    "fig.update_layout(title_text='Total Messages by Day of the Week')\n",
    "\n",
    "fig.show()"
   ]
  },
  {
   "cell_type": "code",
   "execution_count": null,
   "metadata": {},
   "outputs": [],
   "source": [
    "hour_grouped_msg =  (chat.set_index('hour')['Message']\n",
    "                          .groupby(level=0)\n",
    "                          .value_counts()\n",
    "                          .groupby(level=0)\n",
    "                          .sum()\n",
    "                          .reset_index(name='count'))\n",
    "\n",
    "fig = px.bar(hour_grouped_msg, x='hour', y='count',\n",
    "                 labels={'hour':'24 Hour Period'},)\n",
    "fig.update_traces(marker_line_width=1.5, opacity=0.6)\n",
    "fig.update_layout(title_text='Total Messages by Hour of the Day')\n",
    "fig.show()"
   ]
  },
  {
   "cell_type": "code",
   "execution_count": null,
   "metadata": {},
   "outputs": [],
   "source": [
    "grouped_by_month_and_day = (\n",
    "    chat.groupby([\"month_sent\", \"weekday\"])[\"Message\"]\n",
    "    .value_counts()\n",
    "    .reset_index(name=\"count\"))\n",
    "\n",
    "months = [\n",
    "    \"January\",\n",
    "    \"February\",\n",
    "    \"March\",\n",
    "    \"April\",\n",
    "    \"May\",\n",
    "    \"June\",\n",
    "    \"July\",\n",
    "    \"August\",\n",
    "    \"September\",\n",
    "    \"October\",\n",
    "    \"November\",\n",
    "    \"December\",]\n",
    "\n",
    "days = [\"Monday\", \"Tuesday\", \"Wednesday\", \"Thursday\", \"Friday\", \"Saturday\", \"Sunday\"]\n",
    "pt = grouped_by_month_and_day.pivot_table(\n",
    "    index=\"month_sent\", columns=\"weekday\", values=\"count\"\n",
    "    ).reindex(index=months, columns=days)\n",
    "fig = px.imshow(pt, labels=dict(x=\"Day of Week\", y=\"Months\", color=\"Count\"), x=days, y=months)\n",
    "fig.update_layout(width=700, height=700)\n",
    "fig.show()"
   ]
  },
  {
   "cell_type": "code",
   "execution_count": null,
   "metadata": {},
   "outputs": [],
   "source": [
    "total_messages = chat.shape[0]\n",
    "media_messages = chat[chat['Message'] == '<Multimedia omtted>'].shape[0]\n",
    "average_message_words = chat['Word_Count'].mean()\n",
    "average_message_letters = chat['Letter_Count'].mean()\n",
    "average_message_day = chat.groupby('date')['Message'].count().mean()\n",
    "print('Total Messages ',total_messages)\n",
    "print('Media Messages', media_messages)\n",
    "print('Average Words by Messages', round(average_message_words, 2))\n",
    "print('Average Letters by Messages', round(average_message_letters, 2))\n",
    "print('Average Message Per Day', round(average_message_day, 2))"
   ]
  },
  {
   "cell_type": "code",
   "execution_count": null,
   "metadata": {},
   "outputs": [],
   "source": [
    "qty_message_author = chat['Author'].value_counts()\n",
    "qty_message_author.plot(kind='barh',figsize=(20,10), color=['#D4A29C', '#E8B298', '#EDCC8B', '#BDD1C5', '#9DAAA2'])\n",
    "qty_message_author"
   ]
  },
  {
   "cell_type": "code",
   "execution_count": null,
   "metadata": {},
   "outputs": [],
   "source": [
    "common_words = chat[['Author','Message']].copy()\n",
    "common_words[\"Message\"] = common_words[\"Message\"].replace(\"'\", \"\")\n",
    "# print(common_words[\"Message\"].head(50))\n",
    "\n",
    "from nltk.corpus import stopwords\n",
    "STOPWORDS = stopwords.words('english')\n",
    "\n",
    "stopwords = list(STOPWORDS)\n",
    "\n",
    "extra = [\"the\", \"be\", \"to\", \"of\", \"and\", \"a\", \"in\", \"that\", \"have\", \"I\", \"i\", \"it\", \"for\",\n",
    "        \"not\", \"on\", \"with\", \"he\", \"as\", \"you\", \"do\", \"at\", \"this\", \"but\", \"his\", \"by\",\n",
    "        \"from\", \"they\", \"we\", \"say\", \"her\", \"she\", \"or\", \"an\", \"will\", \"my\", \"one\",\n",
    "        \"all\", \"would\", \"there\", \"their\", \"what\", \"so\", \"up\", \"out\", \"if\", \"about\",\n",
    "        \"who\", \"get\", \"which\", \"go\", \"me\", \"when\", \"make\", \"can\", \"like\", \"time\", \"no\",\n",
    "        \"just\", \"him\", \"know\", \"take\", \"people\", \"into\", \"year\", \"your\", \"good\", \"some\",\n",
    "        \"could\", \"them\", \"see\", \"other\", \"then\", \"than\", \"now\", \"look\", \"only\", \"come\",\n",
    "        \"its\", \"over\", \"think\", \"also\", \"back\", \"after\", \"use\", \"two\", \"how\", \"our\",\n",
    "        \"work\", \"first\", \"well\", \"way\", \"even\", \"new\", \"want\", \"because\", \"any\", \"these\",\n",
    "        \"give\", \"day\", \"most\", \"us\", \"media\", \"omitted>\", \"<media\", \"omitted\", \"multimedia\",\n",
    "        \"<<\", \"idk\", \"lol\", \"ok\", \"right\", \"much\", \"got\", \"i'll\", \"i'm\", \"it's\", \"its\",\n",
    "        \"don't\", \"dont\", \"thought\", \"cus\", \"cos\", \"oh\", \"u\", \"im\", \"okay\", \"yeah\", \"sure\",\n",
    "        \"haha\", \"yes\", \"cuz\", \"==\", \"ill\", \"gonna\", \"though\", \"thing\", \"-\", \"ya\", \"yah\",\n",
    "        \"that's\", \"going\", ]\n",
    "\n",
    "stopwords += extra\n",
    "common_words[\"Message\"] = (common_words[\"Message\"]\n",
    "                           .str.lower()\n",
    "                           .str.split()\n",
    "                           .apply(lambda x: [item for item in x if item not in stopwords])\n",
    "                           .explode()\n",
    "                           .reset_index(drop=True))\n",
    "\n",
    "# common_words['Message']= common_words['Message'].apply(remove_emoji)\n",
    "common_words['Message']= common_words['Message'].replace('nan', np.NaN)\n",
    "common_words['Message']= common_words['Message'].replace('', np.NaN)\n",
    "common_words['Message']= common_words.Message.str.replace(r\"(a|h)?(ha)+(a|h)?\", \"haha\")\n",
    "common_words['Message']= common_words.Message.str.replace(r\"(a|h)?(haha)+(a|h)?\", \"haha\")\n",
    "common_words['Message']= common_words.Message.str.replace(r\"(a|h)?(hahaha)+(a|h)?\", \"haha\")\n",
    "common_words['Message']= common_words.Message.str.replace(r\"(a|h)?(hahhahha)+(a|h)?\", \"haha\")\n",
    "\n",
    "words_dict = dict(Counter(common_words.Message))\n",
    "words_dict = sorted(words_dict.items(), key=lambda x: x[1], reverse=True)\n",
    "\n",
    "words_dict = pd.DataFrame(words_dict, columns=['words', 'count'])\n",
    "\n",
    "fig = px.bar(words_dict.head(10).dropna(), x='words', y='count',\n",
    "                 labels={'words':'Common Words'}, \n",
    "                 height=400)\n",
    "fig.update_traces(marker_color='#EDCC8B', marker_line_color='#D4A29C',\n",
    "                  marker_line_width=1.5, opacity=0.6)\n",
    "fig.update_layout(title_text='Common Words Chart')\n",
    "fig.show()"
   ]
  },
  {
   "cell_type": "code",
   "execution_count": null,
   "metadata": {},
   "outputs": [],
   "source": [
    "TopTen = 10\n",
    "author_common_words = (\n",
    "    common_words.set_index(\"Author\")[\"Message\"]\n",
    "    .dropna()\n",
    "    .groupby(level=0)\n",
    "    .value_counts()\n",
    "    .groupby(level=0)\n",
    "    .head(TopTen)\n",
    "    .rename_axis((\"Author\", \"words\"))\n",
    "    .reset_index(name=\"count\"))\n",
    "\n",
    "l = author_common_words.Author.unique()\n",
    "for i in range(len(l)):\n",
    "    dummy_df = author_common_words[author_common_words[\"Author\"] == l[i]]\n",
    "    print(dummy_df)\n",
    "    print(\"Most Common Words by\", l[i])\n",
    "    fig = px.bar(\n",
    "        dummy_df,\n",
    "        x=\"words\",\n",
    "        y=\"count\",\n",
    "        labels={\"words\": \"Author Common Words\"},\n",
    "        height=380,)\n",
    "    fig.update_traces(\n",
    "        marker_color=\"#EDCC8B\",\n",
    "        marker_line_color=\"#D4A29C\",\n",
    "        marker_line_width=1.5,\n",
    "        opacity=0.6,)\n",
    "    fig.update_layout(title_text=\"Author Common Words Chart\")\n",
    "    fig.show()"
   ]
  },
  {
   "cell_type": "code",
   "execution_count": null,
   "metadata": {},
   "outputs": [],
   "source": [
    "def plot_cloud(wordcloud):\n",
    "    plt.figure(figsize=(40, 30))\n",
    "    plt.imshow(wordcloud)\n",
    "    plt.axis(\"off\")\n",
    "\n",
    "def remove_urls(text):\n",
    "    url_pattern = re.compile(r\"https?://\\S+|www\\.\\S+\")\n",
    "    return url_pattern.sub(r\"\", text)"
   ]
  },
  {
   "cell_type": "code",
   "execution_count": null,
   "metadata": {},
   "outputs": [],
   "source": [
    "chat_word_cloud = chat[[\"Message\"]].copy()\n",
    "# chat_word_cloud['Message']= chat_word_cloud['Message'].apply(remove_emoji)\n",
    "chat_word_cloud[\"Message\"] = chat_word_cloud[\"Message\"].apply(remove_urls)\n",
    "chat_word_cloud[\"Message\"] = chat_word_cloud[\"Message\"].replace(\"nan\", np.NaN)\n",
    "chat_word_cloud[\"Message\"] = chat_word_cloud[\"Message\"].replace(\"\", np.NaN)\n",
    "text = \" \".join(review for review in chat_word_cloud.Message.dropna())\n",
    "wordcloud = WordCloud(\n",
    "    width=3000,\n",
    "    height=2000,\n",
    "    random_state=1,\n",
    "    background_color=\"black\",\n",
    "    colormap=\"Set2\",\n",
    "    collocations=False,\n",
    "    stopwords=stopwords,).generate(text)\n",
    "\n",
    "plot_cloud(wordcloud)"
   ]
  }
 ],
 "metadata": {
  "kernelspec": {
   "display_name": ".venv",
   "language": "python",
   "name": "python3"
  },
  "language_info": {
   "codemirror_mode": {
    "name": "ipython",
    "version": 3
   },
   "file_extension": ".py",
   "mimetype": "text/x-python",
   "name": "python",
   "nbconvert_exporter": "python",
   "pygments_lexer": "ipython3",
   "version": "3.11.3"
  },
  "orig_nbformat": 4
 },
 "nbformat": 4,
 "nbformat_minor": 2
}
